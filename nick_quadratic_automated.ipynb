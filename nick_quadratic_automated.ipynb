{
 "cells": [
  {
   "cell_type": "code",
   "execution_count": 1,
   "id": "behind-sculpture",
   "metadata": {},
   "outputs": [],
   "source": [
    "import numpy as np\n",
    "import copy\n",
    "import dimod\n",
    "import random\n",
    "import math\n",
    "from math import log\n",
    "import dimod"
   ]
  },
  {
   "cell_type": "code",
   "execution_count": 132,
   "id": "fifth-sally",
   "metadata": {},
   "outputs": [],
   "source": [
    "#Converts a ||Ax-b|| problem into a QUBO\n",
    "def qubo_prep(A,b,n,bitspower,varnames=None):\n",
    "    #Input:\n",
    "    #'A' is the matrix which is a np.array(), a matrix which is m x n\n",
    "    #b is the vector in the expression : Ax-b, an np.array() of length m\n",
    "    #n is an integer value that is the length of the column vector x\n",
    "    #bitspower is a list of powers that would be applied in a 2s complement way, \n",
    "    #eg : [2,1,0] would be applied with another bit tacked on front as : -2^(len(bitspower) + 2^(2) + 2^(1) + 2^(0)\n",
    "    #varnames if provided is a list of variable name. eg : varnames = [x1,x2,x3]\n",
    "    #Note : the implementation requires the list to be a set of decreasing and consecutive numbers, sorry!\n",
    "    #Output:\n",
    "    #A dictionary Qdict which is the QUBO for this problem\n",
    "    #A dictionary Qdict_alt which the same QUBO but with alphanumeric variable (keys) names\n",
    "    n_i_ctr = 0\n",
    "    i_powerctr = 0\n",
    "    i_twosymb = 0\n",
    "    \n",
    "    str_bitspower = ['null'] + [str(item) for item in bitspower]\n",
    "    powersoftwo = np.zeros(len(bitspower)+1)\n",
    "    \n",
    "    for i in range(0,len(bitspower)+1):\n",
    "        if i==0:\n",
    "            powersoftwo[i] = (2**(bitspower[i]+1))*(-1)\n",
    "        else:\n",
    "            powersoftwo[i] = 2**(bitspower[i-1])\n",
    "    Qinit = np.zeros([n,n]) #A proto-QUBO that preprocesses some values for the actual QUBO. Initial QUBO if you will\n",
    "    Qdict = {} #A dictionary that stores the final QUBO\n",
    "    \n",
    "    Qdict_alt = {} #This dictionary saves the alternate QUBO with alphanumeric variable (keys) names\n",
    "    index_dict = {} #Dictionary that maps alphanumeric variables to the integer ones\n",
    "    \n",
    "    for i in range(0,n):\n",
    "        for j in range(i,n):\n",
    "            Qinit[i,j] = 2*sum(A[:,i]*A[:,j])    \n",
    "    bnew = 2*b\n",
    "    \n",
    "    \n",
    "    for i in range(0,n*len(powersoftwo)):\n",
    "        if i%len(powersoftwo)==0 and i>0:\n",
    "            n_i_ctr = n_i_ctr + 1\n",
    "            i_powerctr=0\n",
    "        n_j_ctr = n_i_ctr\n",
    "        j_powerctr = i_powerctr\n",
    "        for j in range(i,n*len(powersoftwo)):\n",
    "            if i==j:#Linear coefficient\n",
    "                Qdict[i,i] = (powersoftwo[i_powerctr]**2)*(sum(A[:,n_i_ctr]**2)) - powersoftwo[i_powerctr]*sum(A[:,n_i_ctr]*bnew)\n",
    "                if varnames != None:\n",
    "                    tempvar1 = varnames[n_i_ctr] + '_' + str_bitspower[i_powerctr]\n",
    "                    index_dict[tempvar1] = i\n",
    "                    Qdict_alt[tempvar1,tempvar1] = Qdict[i,i]\n",
    "            else:#Quadratic coefficient\n",
    "                if j%len(powersoftwo)==0 and j>0:\n",
    "                    n_j_ctr = n_j_ctr + 1\n",
    "                    j_powerctr = 0\n",
    "                Qdict[i,j] = powersoftwo[i_powerctr]*powersoftwo[j_powerctr]*Qinit[n_i_ctr,n_j_ctr]\n",
    "                if varnames != None:\n",
    "                    tempvar2 = varnames[n_j_ctr] + '_' + str_bitspower[j_powerctr]\n",
    "                    Qdict_alt[tempvar1,tempvar2] = Qdict[i,j]\n",
    "            \n",
    "            j_powerctr = j_powerctr + 1\n",
    "        i_powerctr = i_powerctr + 1\n",
    "    \n",
    "    if varnames != None:\n",
    "        return Qdict, Qdict_alt, index_dict\n",
    "    else:\n",
    "        return Qdict #just return the bare bones if varnames not requested\n",
    "\n",
    "#This is just to convert a dictionary based result into a binary string based result\n",
    "def get_bin_str(config,isising=True):\n",
    "    #Input:\n",
    "    #config is a dictionary\n",
    "    #isising is True if config has -1 or +1 and False if config has 0 or 1\n",
    "    #Output:\n",
    "    # a binary string of 0s and 1s\n",
    "    binstr = \"\"\n",
    "    if isising == True:\n",
    "        for i in range(0,len(config)):\n",
    "            if config[i] == 1:\n",
    "                binstr += str(1)\n",
    "            elif config[i] == -1:\n",
    "                binstr += str(0)\n",
    "    else:\n",
    "        for i in range(0,len(config)):\n",
    "            if config[i] == 1:\n",
    "                binstr += str(1)\n",
    "            elif config[i] == 0:\n",
    "                binstr += str(0)\n",
    "    return binstr\n",
    "\n",
    "#processes the binary string into a np.array vector.\n",
    "def qubo_to_real(binstr,n,prec_list):\n",
    "    #prepare the powers_of_two list\n",
    "    \n",
    "    powers_of_two = []\n",
    "    powers_of_two.append(-2**(prec_list[0]+1))\n",
    "    \n",
    "    \n",
    "    for i in range(0,len(prec_list)):\n",
    "        powers_of_two.append(2**(prec_list[i]))\n",
    "    #Now the actual number\n",
    "    bin_ctr=0\n",
    "    cur_real = np.zeros(n)\n",
    "    for i in range(0,n):\n",
    "        for j in range(0,len(powers_of_two)):\n",
    "            cur_real[i] += powers_of_two[j]*int(binstr[bin_ctr])\n",
    "            bin_ctr += 1\n",
    "    \n",
    "    return cur_real\n",
    "\n",
    "def qubo_prep_nonneg(A,b,n,bitspower, varnames=None):\n",
    "    #Same as qubo_prep but only for non-negative values\n",
    "    #bitspower = [0] for binary values\n",
    "    \n",
    "    \n",
    "    n_i_ctr = 0\n",
    "    i_powerctr = 0\n",
    "    i_twosymb = 0\n",
    "    \n",
    "    str_bitspower =[str(item) for item in bitspower]\n",
    "    powersoftwo = np.zeros(len(bitspower))\n",
    "    \n",
    "    for i in range(0,len(bitspower)):\n",
    "        powersoftwo[i] = 2**(bitspower[i])\n",
    "        \n",
    "    Qinit = np.zeros([n,n])\n",
    "    Qdict = {} #The dictionary for our qubo\n",
    "    \n",
    "    Qdict_alt = {} #This dictionary saves the alternate QUBO with alphanumeric variable (keys) names\n",
    "    index_dict = {} #Dictionary that maps alphanumeric variables to the integer ones\n",
    "    \n",
    "    for i in range(0,n):\n",
    "        for j in range(i,n):\n",
    "            Qinit[i,j] = 2*sum(A[:,i]*A[:,j])    \n",
    "    bnew = 2*b   \n",
    "    \n",
    "    for i in range(0,n*len(powersoftwo)):\n",
    "        if i%len(powersoftwo)==0 and i>0:\n",
    "            n_i_ctr = n_i_ctr + 1\n",
    "            i_powerctr=0\n",
    "        n_j_ctr = n_i_ctr\n",
    "        j_powerctr = i_powerctr\n",
    "        for j in range(i,n*len(powersoftwo)):\n",
    "            if i==j: #Linear coefficient\n",
    "                Qdict[i,i] = (powersoftwo[i_powerctr]**2)*(sum(A[:,n_i_ctr]**2)) - powersoftwo[i_powerctr]*sum(A[:,n_i_ctr]*bnew)\n",
    "                if varnames != None:\n",
    "                    tempvar1 = varnames[n_i_ctr] + '_' + str_bitspower[i_powerctr]\n",
    "                    index_dict[tempvar1] = i\n",
    "                    Qdict_alt[tempvar1,tempvar1] = Qdict[i,i]\n",
    "            else: #Quadratic coefficient\n",
    "                if j%len(powersoftwo)==0 and j>0:\n",
    "                    n_j_ctr = n_j_ctr + 1\n",
    "                    j_powerctr = 0\n",
    "                Qdict[i,j] = powersoftwo[i_powerctr]*powersoftwo[j_powerctr]*Qinit[n_i_ctr,n_j_ctr]\n",
    "                if varnames != None:\n",
    "                    tempvar2 = varnames[n_j_ctr] + '_' + str_bitspower[j_powerctr]\n",
    "                    Qdict_alt[tempvar1,tempvar2] = Qdict[i,j]\n",
    "            \n",
    "            j_powerctr = j_powerctr + 1\n",
    "        i_powerctr = i_powerctr + 1\n",
    "    \n",
    "    if varnames != None:\n",
    "        return Qdict, Qdict_alt, index_dict\n",
    "    else:\n",
    "        return Qdict #just return the bare bones if varnames not requested\n",
    "\n",
    "#Function to convert the solution dictionary from alphanumeric variables to integer \n",
    "def convert_result(soln_dict,index):\n",
    "    new_dict = {}\n",
    "    for key,value in soln_dict.items():\n",
    "        new_dict[index[key]] = value\n",
    "    return new_dict"
   ]
  },
  {
   "cell_type": "code",
   "execution_count": 140,
   "id": "corresponding-machinery",
   "metadata": {},
   "outputs": [],
   "source": [
    "#(6 - x1 - x2)^2\n",
    "#Inorder to repurpose a code for ||Ax - b|| for individual quadratic equations for n variables,THe Dimensions for A is 1 x n, for x : n x 1 and b : 1 x 1\n",
    "A = np.array([[1,1]]) \n",
    "prec_list = [1,0]\n",
    "b = np.array([6])\n",
    "n=2\n",
    "varnames = ['x1','x2']\n",
    "Q,Q_alt,index = qubo_prep(A,b,n,prec_list,varnames=varnames)"
   ]
  },
  {
   "cell_type": "code",
   "execution_count": 141,
   "id": "viral-trademark",
   "metadata": {},
   "outputs": [
    {
     "name": "stdout",
     "output_type": "stream",
     "text": [
      "{'x1_0': 1, 'x1_1': 1, 'x1_null': 0, 'x2_0': 1, 'x2_1': 1, 'x2_null': 0}\n"
     ]
    }
   ],
   "source": [
    "sampler = dimod.ExactSolver()\n",
    "sampleset = sampler.sample_qubo(Q_alt)\n",
    "print(sampleset.first.sample)"
   ]
  },
  {
   "cell_type": "code",
   "execution_count": 142,
   "id": "applicable-adolescent",
   "metadata": {},
   "outputs": [
    {
     "data": {
      "text/plain": [
       "array([3., 3.])"
      ]
     },
     "execution_count": 142,
     "metadata": {},
     "output_type": "execute_result"
    }
   ],
   "source": [
    "#Get the solution\n",
    "soln_dict = convert_result(sampleset.first.sample,index)\n",
    "#convert dict to string\n",
    "soln_bin= get_bin_str(soln_dict,isising=False)\n",
    "#convert string to np.array x\n",
    "x = qubo_to_real(soln_bin,n,prec_list)\n",
    "x"
   ]
  },
  {
   "cell_type": "markdown",
   "id": "alive-vietnam",
   "metadata": {},
   "source": [
    "With the old QUBO scheme"
   ]
  },
  {
   "cell_type": "code",
   "execution_count": 136,
   "id": "legislative-telescope",
   "metadata": {},
   "outputs": [
    {
     "name": "stdout",
     "output_type": "stream",
     "text": [
      "{0: 0, 1: 1, 2: 1, 3: 0, 4: 1, 5: 1}\n"
     ]
    },
    {
     "data": {
      "text/plain": [
       "array([3., 3.])"
      ]
     },
     "execution_count": 136,
     "metadata": {},
     "output_type": "execute_result"
    }
   ],
   "source": [
    "Q = qubo_prep(A,b,n,prec_list)\n",
    "sampler = dimod.ExactSolver()\n",
    "sampleset = sampler.sample_qubo(Q)\n",
    "print(sampleset.first.sample)\n",
    "\n",
    "#Get the solution\n",
    "soln_dict = sampleset.first.sample\n",
    "#convert dict to string\n",
    "soln_bin= get_bin_str(soln_dict,isising=False)\n",
    "#convert string to np.array x\n",
    "x = qubo_to_real(soln_bin,n,prec_list)\n",
    "x"
   ]
  },
  {
   "cell_type": "markdown",
   "id": "exclusive-cutting",
   "metadata": {},
   "source": [
    "Now for binary variables"
   ]
  },
  {
   "cell_type": "code",
   "execution_count": 144,
   "id": "million-anthony",
   "metadata": {},
   "outputs": [],
   "source": [
    "#(2 - x1 - x2 - x3)^2 =  (x1 + x2 + x3-2)^2 :\n",
    "#where x is binary\n",
    "A = np.array([[1,1,1]])\n",
    "prec_list = [0]\n",
    "b = np.array([2])\n",
    "varnames = ['x1','x2','x3']\n",
    "n=3"
   ]
  },
  {
   "cell_type": "code",
   "execution_count": 145,
   "id": "geographic-difficulty",
   "metadata": {},
   "outputs": [],
   "source": [
    "Q,Q_alt,index = qubo_prep_nonneg(A,b,n,prec_list,varnames=varnames)"
   ]
  },
  {
   "cell_type": "code",
   "execution_count": 146,
   "id": "grateful-promotion",
   "metadata": {},
   "outputs": [
    {
     "name": "stdout",
     "output_type": "stream",
     "text": [
      "{'x1_0': 1, 'x2_0': 1, 'x3_0': 0}\n"
     ]
    }
   ],
   "source": [
    "sampler = dimod.ExactSolver()\n",
    "sampleset = sampler.sample_qubo(Q_alt)\n",
    "print(sampleset.first.sample)"
   ]
  },
  {
   "cell_type": "code",
   "execution_count": 147,
   "id": "orange-customer",
   "metadata": {},
   "outputs": [
    {
     "data": {
      "text/plain": [
       "{('x1_0', 'x1_0'): -3.0,\n",
       " ('x1_0', 'x2_0'): 2.0,\n",
       " ('x1_0', 'x3_0'): 2.0,\n",
       " ('x2_0', 'x2_0'): -3.0,\n",
       " ('x2_0', 'x3_0'): 2.0,\n",
       " ('x3_0', 'x3_0'): -3.0}"
      ]
     },
     "execution_count": 147,
     "metadata": {},
     "output_type": "execute_result"
    }
   ],
   "source": [
    "Q_alt"
   ]
  },
  {
   "cell_type": "code",
   "execution_count": 148,
   "id": "educated-marshall",
   "metadata": {},
   "outputs": [
    {
     "data": {
      "text/plain": [
       "{(0, 0): -3.0,\n",
       " (0, 1): 2.0,\n",
       " (0, 2): 2.0,\n",
       " (1, 1): -3.0,\n",
       " (1, 2): 2.0,\n",
       " (2, 2): -3.0}"
      ]
     },
     "execution_count": 148,
     "metadata": {},
     "output_type": "execute_result"
    }
   ],
   "source": [
    "Q"
   ]
  },
  {
   "cell_type": "code",
   "execution_count": 149,
   "id": "intended-master",
   "metadata": {},
   "outputs": [
    {
     "data": {
      "text/plain": [
       "{'x1_0': 0, 'x2_0': 1, 'x3_0': 2}"
      ]
     },
     "execution_count": 149,
     "metadata": {},
     "output_type": "execute_result"
    }
   ],
   "source": [
    "index"
   ]
  },
  {
   "cell_type": "code",
   "execution_count": null,
   "id": "vanilla-croatia",
   "metadata": {},
   "outputs": [],
   "source": []
  }
 ],
 "metadata": {
  "kernelspec": {
   "display_name": "qaoa_2021",
   "language": "python",
   "name": "qaoa_2021"
  },
  "language_info": {
   "codemirror_mode": {
    "name": "ipython",
    "version": 3
   },
   "file_extension": ".py",
   "mimetype": "text/x-python",
   "name": "python",
   "nbconvert_exporter": "python",
   "pygments_lexer": "ipython3",
   "version": "3.6.8"
  }
 },
 "nbformat": 4,
 "nbformat_minor": 5
}

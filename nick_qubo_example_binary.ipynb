{
 "cells": [
  {
   "cell_type": "code",
   "execution_count": 1,
   "id": "latest-syndrome",
   "metadata": {},
   "outputs": [],
   "source": [
    "import numpy as np\n",
    "import copy\n",
    "import dimod\n",
    "import random\n",
    "import math\n",
    "from math import log\n",
    "import dimod"
   ]
  },
  {
   "cell_type": "markdown",
   "id": "distributed-tower",
   "metadata": {},
   "source": [
    "Given Matrix A (m times n) and a column vector (b) of length m. Find column vector x length n, such that\n",
    "||Ax - b|| is minimized"
   ]
  },
  {
   "cell_type": "markdown",
   "id": "proprietary-petite",
   "metadata": {},
   "source": [
    "To start with, let us consider a case where x is a binary vector taking 0 or 1"
   ]
  },
  {
   "cell_type": "code",
   "execution_count": 2,
   "id": "rotary-amplifier",
   "metadata": {},
   "outputs": [],
   "source": [
    "#A is a 2x2 matrix b is length 2, x will be a length 2 matrix\n",
    "A = np.array([[2,1],[1,3]])\n",
    "b = np.array([1,3])"
   ]
  },
  {
   "cell_type": "markdown",
   "id": "solid-ability",
   "metadata": {},
   "source": [
    "Let us take qubits values q0 for x0 and q1 for x1 such that x = np.array([x0,x1]). For the sake of the example we know beforehand that the best answer is x = np.array([0,1])"
   ]
  },
  {
   "cell_type": "markdown",
   "id": "basic-nursery",
   "metadata": {},
   "source": [
    "The QUBO formulation based on L2 norm squaring for the example above will be (refer to Eqn 3.5 and 3.6 in my dissertation)"
   ]
  },
  {
   "cell_type": "code",
   "execution_count": 3,
   "id": "genetic-october",
   "metadata": {},
   "outputs": [
    {
     "data": {
      "text/plain": [
       "{('q0', 'q0'): -5, ('q1', 'q1'): -10, ('q0', 'q1'): 10}"
      ]
     },
     "execution_count": 3,
     "metadata": {},
     "output_type": "execute_result"
    }
   ],
   "source": [
    "Q = {}\n",
    "#First the individual coefficients\n",
    "Q['q0','q0'] = A[0,0]*(A[0,0] - 2*b[0]) +  A[1,0]*(A[1,0] - 2*b[1])\n",
    "Q['q1','q1'] = A[1,0]*(A[1,0] - 2*b[0]) +  A[1,1]*(A[1,1] - 2*b[1])\n",
    "#and now for the interaction between q0 and q1\n",
    "Q['q0','q1'] = 2*(A[0,0]*A[0,1] + A[1,0]*A[1,1])\n",
    "Q"
   ]
  },
  {
   "cell_type": "markdown",
   "id": "after-aluminum",
   "metadata": {},
   "source": [
    "Let us run this thing with exact solver"
   ]
  },
  {
   "cell_type": "code",
   "execution_count": 4,
   "id": "accessible-ready",
   "metadata": {},
   "outputs": [],
   "source": [
    "#Use Exactsolver to solve the qubo\n",
    "sampler = dimod.ExactSolver()\n",
    "sampleset = sampler.sample_qubo(Q)"
   ]
  },
  {
   "cell_type": "code",
   "execution_count": 5,
   "id": "greenhouse-coupon",
   "metadata": {},
   "outputs": [
    {
     "name": "stdout",
     "output_type": "stream",
     "text": [
      "Result is : {'q0': 0, 'q1': 1}\n"
     ]
    }
   ],
   "source": [
    "#Let's get the 'best' answer from the sampleset object\n",
    "print(\"Result is :\", sampleset.first.sample)"
   ]
  },
  {
   "cell_type": "markdown",
   "id": "serious-steel",
   "metadata": {},
   "source": [
    "Which means the result is x = np.array([0,1])"
   ]
  },
  {
   "cell_type": "markdown",
   "id": "radical-signal",
   "metadata": {},
   "source": [
    "------------------------------------------------<br>\n",
    "Now let us take a slightly different example which will be somewhat a bulding component of V = WH.<br>\n",
    "Take a quadratic equation with threee variables x0,x1 and x2 that are binary, not using q0 and q1 (personal choice, you can use it)"
   ]
  },
  {
   "cell_type": "markdown",
   "id": "operating-stereo",
   "metadata": {},
   "source": [
    "The problem is find x = [x2,x1,x0] such that we minimize (2 - x2 - x1 - x0)^2. Here, we know the best answer is for exactly two of the variables to be 1 and the other to be a 0. But let us see how to get a QUBO for it."
   ]
  },
  {
   "cell_type": "markdown",
   "id": "designing-carry",
   "metadata": {},
   "source": [
    "Remember that when you exand something like (a + b + c +.. +z)^2 your result is : a^2 + b^2 + ... + z^2 + 2ab + 2ac + 2ad + ... + 2 yz. <br> (where all combinations of the terms are multiplied with each other. N choose 2)"
   ]
  },
  {
   "cell_type": "markdown",
   "id": "suffering-kenya",
   "metadata": {},
   "source": [
    "Thus, ( 2 - x2 - x1 - x0) ^ 2 = x0^2 + x1^2 + x2^2 + 2(-x0)(-x1) + 2(-x1)(-x2) + 2(-x0)(-x2) + 2(2)(-x0) +2(2)(-x1) +2(2)(-x2) + 4 <br><br>The signs of each term multiply during their interactions. Also, do you notice the + 2(2)(-x0) +2(2)(-x1) +2(2)(-x2)? This happens because even the standalone 2 is considered as a term for the expansion of this quadratic form."
   ]
  },
  {
   "cell_type": "markdown",
   "id": "speaking-preference",
   "metadata": {},
   "source": [
    "Okay, since we are dealing with binary variables, x0^2 = x0) (same goes for all of them). Thus the form becomes <br> = 1(1 - 2(2))x0 - 1(1 - 2(2))x1 - 1(1 - 2(2))x2 + 2x0x1 + 2x1x2 + 2x0x2 + 4"
   ]
  },
  {
   "cell_type": "code",
   "execution_count": 15,
   "id": "humanitarian-attitude",
   "metadata": {},
   "outputs": [
    {
     "data": {
      "text/plain": [
       "{('x0', 'x0'): -3,\n",
       " ('x1', 'x1'): -3,\n",
       " ('x2', 'x2'): -3,\n",
       " ('x0', 'x1'): 2,\n",
       " ('x0', 'x2'): 2,\n",
       " ('x1', 'x2'): 2}"
      ]
     },
     "execution_count": 15,
     "metadata": {},
     "output_type": "execute_result"
    }
   ],
   "source": [
    "#Now for the QUBO, we ignore the constant, which is 4 in this case\n",
    "#Linear coefficients\n",
    "Q= {}\n",
    "Q['x0','x0'] = 1*(1 - 2*(2))\n",
    "Q['x1','x1'] = 1*(1 - 2*(2))\n",
    "Q['x2','x2'] = 1*(1 - 2*(2))\n",
    "#Quadratic coefficients\n",
    "Q['x0','x1'] = 2\n",
    "Q['x0','x2'] = 2\n",
    "Q['x1','x2'] = 2\n",
    "Q"
   ]
  },
  {
   "cell_type": "code",
   "execution_count": 16,
   "id": "available-explorer",
   "metadata": {},
   "outputs": [],
   "source": [
    "#Use Exactsolver to solve the qubo\n",
    "sampler = dimod.ExactSolver()\n",
    "sampleset = sampler.sample_qubo(Q)"
   ]
  },
  {
   "cell_type": "code",
   "execution_count": 17,
   "id": "super-immune",
   "metadata": {},
   "outputs": [
    {
     "name": "stdout",
     "output_type": "stream",
     "text": [
      "  x0 x1 x2 energy num_oc.\n",
      "2  1  1  0   -4.0       1\n",
      "4  0  1  1   -4.0       1\n",
      "6  1  0  1   -4.0       1\n",
      "1  1  0  0   -3.0       1\n",
      "3  0  1  0   -3.0       1\n",
      "5  1  1  1   -3.0       1\n",
      "7  0  0  1   -3.0       1\n",
      "0  0  0  0    0.0       1\n",
      "['BINARY', 8 rows, 8 samples, 3 variables]\n"
     ]
    }
   ],
   "source": [
    "print(sampleset)"
   ]
  },
  {
   "cell_type": "markdown",
   "id": "appointed-depression",
   "metadata": {},
   "source": [
    "You can see the top 3 results (any one of them) satisfy the result. (ignore the first column, its just the original order of the result, see sampleset.samples)"
   ]
  },
  {
   "cell_type": "markdown",
   "id": "damaged-presence",
   "metadata": {},
   "source": [
    "------------------------------------------<br>\n",
    "Now let us go a step further let us solve for a binary vector x =  np.array([x0,x1,x2]), where we need to minimize:<br> (3 + 4x2 - 2x1 -x0)^2. For this problem, logically, we can see that putting x2 = 0 and x1 and x0 as 1 will minimize the expression the most. But let us see how to make a qubo for that."
   ]
  },
  {
   "cell_type": "markdown",
   "id": "modified-catalog",
   "metadata": {},
   "source": [
    "So, when it comes to expand an algebraic expression that is raised to power two. Terms such as 4x2 or -2x1 are considered single terms. Which means whatever coefficients they have will also 'follow along for the ride'. "
   ]
  },
  {
   "cell_type": "markdown",
   "id": "shared-wrestling",
   "metadata": {},
   "source": [
    "(3 + 4x2 - 2x1 - x0)^2 = (4x2)^2 + (2x1)^2 + (x0)^2 + 2(4x2)(-2x1) + 2(-2x1)(-x0) + 2(4x2)(-x0) + 2(3)(4x2) + 2(3)(-2x1) + 2(3)(-x0) + 9 <br>\n",
    "Simplifying, and remembering binary variables are idempotent (x0^2 = x0 and so forth) we get<br>\n",
    "\n",
    "= 4(4 + 2(3))x2 + 2(2 - 2(3))x1 + 1(1 - 2*(3)) - 2(8)x2x0 - 2(4)x2x0 + 2(2)x1x0 + 9"
   ]
  },
  {
   "cell_type": "code",
   "execution_count": 18,
   "id": "capable-shift",
   "metadata": {},
   "outputs": [
    {
     "data": {
      "text/plain": [
       "{('x0', 'x0'): -5,\n",
       " ('x1', 'x1'): -8,\n",
       " ('x2', 'x2'): 40,\n",
       " ('x0', 'x1'): 4,\n",
       " ('x0', 'x2'): -8,\n",
       " ('x1', 'x2'): -16}"
      ]
     },
     "execution_count": 18,
     "metadata": {},
     "output_type": "execute_result"
    }
   ],
   "source": [
    "#Now for the QUBO, we ignore the constant, which is 9 in this case\n",
    "#Linear coefficients\n",
    "Q = {}\n",
    "Q['x0','x0'] = 1*(1 - 2*(3))\n",
    "Q['x1','x1'] = 2*(2 - 2*(3))\n",
    "Q['x2','x2'] = 4*(4 + 2*(3))\n",
    "#Quadratic coefficients\n",
    "Q['x0','x1'] = 2*(2)\n",
    "Q['x0','x2'] = -2*(4)\n",
    "Q['x1','x2'] = -2*(8)\n",
    "Q"
   ]
  },
  {
   "cell_type": "code",
   "execution_count": 19,
   "id": "solid-sacramento",
   "metadata": {},
   "outputs": [],
   "source": [
    "#Use Exactsolver to solve the qubo\n",
    "sampler = dimod.ExactSolver()\n",
    "sampleset = sampler.sample_qubo(Q)"
   ]
  },
  {
   "cell_type": "code",
   "execution_count": 21,
   "id": "compliant-nebraska",
   "metadata": {},
   "outputs": [
    {
     "name": "stdout",
     "output_type": "stream",
     "text": [
      "  x0 x1 x2 energy num_oc.\n",
      "2  1  1  0   -9.0       1\n",
      "3  0  1  0   -8.0       1\n",
      "1  1  0  0   -5.0       1\n",
      "0  0  0  0    0.0       1\n",
      "5  1  1  1    7.0       1\n",
      "4  0  1  1   16.0       1\n",
      "6  1  0  1   27.0       1\n",
      "7  0  0  1   40.0       1\n",
      "['BINARY', 8 rows, 8 samples, 3 variables]\n"
     ]
    },
    {
     "data": {
      "text/plain": [
       "{'x0': 1, 'x1': 1, 'x2': 0}"
      ]
     },
     "execution_count": 21,
     "metadata": {},
     "output_type": "execute_result"
    }
   ],
   "source": [
    "print(sampleset)\n",
    "sampleset.first.sample"
   ]
  },
  {
   "cell_type": "markdown",
   "id": "threatened-module",
   "metadata": {},
   "source": [
    "Look at the first row (ignore the first column, its just the original order of the result, see sampleset.samples)"
   ]
  },
  {
   "cell_type": "code",
   "execution_count": null,
   "id": "circular-gender",
   "metadata": {},
   "outputs": [],
   "source": []
  },
  {
   "cell_type": "code",
   "execution_count": null,
   "id": "likely-cookbook",
   "metadata": {},
   "outputs": [],
   "source": []
  }
 ],
 "metadata": {
  "kernelspec": {
   "display_name": "qaoa_2021",
   "language": "python",
   "name": "qaoa_2021"
  },
  "language_info": {
   "codemirror_mode": {
    "name": "ipython",
    "version": 3
   },
   "file_extension": ".py",
   "mimetype": "text/x-python",
   "name": "python",
   "nbconvert_exporter": "python",
   "pygments_lexer": "ipython3",
   "version": "3.6.8"
  }
 },
 "nbformat": 4,
 "nbformat_minor": 5
}

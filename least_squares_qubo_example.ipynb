{
 "cells": [
  {
   "cell_type": "code",
   "execution_count": 1,
   "id": "elect-democrat",
   "metadata": {},
   "outputs": [],
   "source": [
    "import numpy as np\n",
    "import copy\n",
    "import dimod\n",
    "import random\n",
    "import math\n",
    "from math import log\n",
    "import dimod"
   ]
  },
  {
   "cell_type": "code",
   "execution_count": 2,
   "id": "bacterial-shopper",
   "metadata": {},
   "outputs": [],
   "source": [
    "#Converts a ||Ax-b|| problem into a QUBO\n",
    "def qubo_prep(A,b,n,bitspower):\n",
    "    #Input:\n",
    "    #'A' is the matrix which is a np.array(), a matrix which is m x n\n",
    "    #b is the vector in the expression : Ax-b, an np.array() of length m\n",
    "    #n is an integer value that is the length of the column vector x\n",
    "    #bitspower is a list of powers that would be applied in a 2s complement way, \n",
    "    #eg : [2,1,0] would be applied with another bit tacked on front as : -2^(len(bitspower) + 2^(2) + 2^(1) + 2^(0)\n",
    "    #Note : the implementation requires the list to be a set of decreasing and consecutive numbers, sorry!\n",
    "    #Output:\n",
    "    #A dictionary Qdict which is the QUBO for this problem\n",
    "    \n",
    "    \n",
    "    n_i_ctr = 0\n",
    "    i_powerctr = 0\n",
    "    i_twosymb = 0\n",
    "    \n",
    "    powersoftwo = np.zeros(len(bitspower)+1)\n",
    "    for i in range(0,len(bitspower)+1):\n",
    "        if i==0:\n",
    "            powersoftwo[i] = (2**(bitspower[i]+1))*(-1)\n",
    "        else:\n",
    "            powersoftwo[i] = 2**(bitspower[i-1])\n",
    "    Qinit = np.zeros([n,n])\n",
    "    Qdict = {} #Same qubo but in dictionary format\n",
    "    for i in range(0,n):\n",
    "        for j in range(i,n):\n",
    "            Qinit[i,j] = 2*sum(A[:,i]*A[:,j])    \n",
    "    bnew = 2*b\n",
    "    \n",
    "    for i in range(0,n*len(powersoftwo)):\n",
    "        if i%len(powersoftwo)==0 and i>0:\n",
    "            n_i_ctr = n_i_ctr + 1\n",
    "            i_powerctr=0\n",
    "        n_j_ctr = n_i_ctr\n",
    "        j_powerctr = i_powerctr\n",
    "        for j in range(i,n*len(powersoftwo)):\n",
    "            if i==j:\n",
    "                Qdict[i,i] = (powersoftwo[i_powerctr]**2)*(sum(A[:,n_i_ctr]**2)) - powersoftwo[i_powerctr]*sum(A[:,n_i_ctr]*bnew)\n",
    "            else:\n",
    "                if j%len(powersoftwo)==0 and j>0:\n",
    "                    n_j_ctr = n_j_ctr + 1\n",
    "                    j_powerctr = 0\n",
    "                Qdict[i,j] = powersoftwo[i_powerctr]*powersoftwo[j_powerctr]*Qinit[n_i_ctr,n_j_ctr]\n",
    "            \n",
    "            j_powerctr = j_powerctr + 1\n",
    "        i_powerctr = i_powerctr + 1\n",
    "    \n",
    "    return Qdict\n",
    "\n",
    "#This is just to convert a dictionary based result into a binary string based result\n",
    "def get_bin_str(config,isising=True):\n",
    "    #Input:\n",
    "    #config is a dictionary\n",
    "    #isising is True if config has -1 or +1 and False if config has 0 or 1\n",
    "    #Output:\n",
    "    # a binary string of 0s and 1s\n",
    "    binstr = \"\"\n",
    "    if isising == True:\n",
    "        for i in range(0,len(config)):\n",
    "            if config[i] == 1:\n",
    "                binstr += str(1)\n",
    "            elif config[i] == -1:\n",
    "                binstr += str(0)\n",
    "    else:\n",
    "        for i in range(0,len(config)):\n",
    "            if config[i] == 1:\n",
    "                binstr += str(1)\n",
    "            elif config[i] == 0:\n",
    "                binstr += str(0)\n",
    "    return binstr\n",
    "\n",
    "#processes the binary string into a np.array vector.\n",
    "def qubo_to_real(binstr,n,prec_list):\n",
    "    #prepare the powers_of_two list\n",
    "    powers_of_two = []\n",
    "    powers_of_two.append(-2**(prec_list[0]+1))\n",
    "    for i in range(0,len(prec_list)):\n",
    "        powers_of_two.append(2**(prec_list[i]))\n",
    "    #Now the actual number\n",
    "    bin_ctr=0\n",
    "    cur_real = np.zeros(n)\n",
    "    for i in range(0,n):\n",
    "        for j in range(0,len(powers_of_two)):\n",
    "            cur_real[i] += powers_of_two[j]*int(binstr[bin_ctr])\n",
    "            bin_ctr += 1\n",
    "    \n",
    "    return cur_real"
   ]
  },
  {
   "cell_type": "code",
   "execution_count": 3,
   "id": "interim-disease",
   "metadata": {},
   "outputs": [],
   "source": [
    "#Toy problem for linear system of equations, here m == n\n",
    "#x will be np.array([3,1])\n",
    "\n",
    "#Declare A and b\n",
    "A = np.array([[2,1],[1,3]])\n",
    "b = np.array([7,6])\n",
    "n = 2\n",
    "\n",
    "prec_list = [1,0] #bitspower will go from -4 to 3\n",
    "Q = qubo_prep(A,b,n,prec_list) #prepare qubo"
   ]
  },
  {
   "cell_type": "code",
   "execution_count": 4,
   "id": "cellular-anatomy",
   "metadata": {},
   "outputs": [],
   "source": [
    "#Use Exactsolver to solve the qubo\n",
    "sampler = dimod.ExactSolver()\n",
    "sampleset = sampler.sample_qubo(Q)\n",
    "\n",
    "#Get the solution\n",
    "soln_dict = sampleset.first.sample\n",
    "#convert dict to string\n",
    "soln_bin= get_bin_str(soln_dict,isising=False)\n",
    "#convert string to np.array x\n",
    "x = qubo_to_real(soln_bin,n,prec_list)"
   ]
  },
  {
   "cell_type": "code",
   "execution_count": 5,
   "id": "noble-block",
   "metadata": {},
   "outputs": [
    {
     "name": "stdout",
     "output_type": "stream",
     "text": [
      "Solution x is :  [3. 1.]\n",
      "||b||^2:  85.0\n",
      "Energy of soln:  -85.0\n"
     ]
    }
   ],
   "source": [
    "print(\"Solution x is : \",x)\n",
    "\n",
    "#In the cases where Ax = b, ||Ax - b|| = 0 and also ||b||^2 = ground state energy of the qubo\n",
    "print(\"||b||^2: \",np.linalg.norm(b)**2)\n",
    "print(\"Energy of soln: \",sampleset.first.energy)"
   ]
  },
  {
   "cell_type": "code",
   "execution_count": 6,
   "id": "sapphire-april",
   "metadata": {},
   "outputs": [
    {
     "data": {
      "text/plain": [
       "{(0, 0): 240.0,\n",
       " (0, 1): -80.0,\n",
       " (0, 2): -40.0,\n",
       " (0, 3): 160.0,\n",
       " (0, 4): -80.0,\n",
       " (0, 5): -40.0,\n",
       " (1, 1): -60.0,\n",
       " (1, 2): 20.0,\n",
       " (1, 3): -80.0,\n",
       " (1, 4): 40.0,\n",
       " (1, 5): 20.0,\n",
       " (2, 2): -35.0,\n",
       " (2, 3): -40.0,\n",
       " (2, 4): 20.0,\n",
       " (2, 5): 10.0,\n",
       " (3, 3): 360.0,\n",
       " (3, 4): -160.0,\n",
       " (3, 5): -80.0,\n",
       " (4, 4): -60.0,\n",
       " (4, 5): 40.0,\n",
       " (5, 5): -40.0}"
      ]
     },
     "execution_count": 6,
     "metadata": {},
     "output_type": "execute_result"
    }
   ],
   "source": [
    "Q"
   ]
  },
  {
   "cell_type": "code",
   "execution_count": null,
   "id": "intermediate-powell",
   "metadata": {},
   "outputs": [],
   "source": []
  }
 ],
 "metadata": {
  "kernelspec": {
   "display_name": "Python 3 (ipykernel)",
   "language": "python",
   "name": "python3"
  },
  "language_info": {
   "codemirror_mode": {
    "name": "ipython",
    "version": 3
   },
   "file_extension": ".py",
   "mimetype": "text/x-python",
   "name": "python",
   "nbconvert_exporter": "python",
   "pygments_lexer": "ipython3",
   "version": "3.9.9"
  }
 },
 "nbformat": 4,
 "nbformat_minor": 5
}

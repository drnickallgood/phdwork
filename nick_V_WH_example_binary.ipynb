{
 "cells": [
  {
   "cell_type": "markdown",
   "id": "aggregate-cooperative",
   "metadata": {},
   "source": [
    "Refer to the v_wh_linearization.pdf along with this"
   ]
  },
  {
   "cell_type": "code",
   "execution_count": 19,
   "id": "protective-package",
   "metadata": {},
   "outputs": [],
   "source": [
    "import numpy as np\n",
    "import copy\n",
    "import dimod\n",
    "import random\n",
    "import math\n",
    "from math import log\n",
    "import dimod\n",
    "import numpy.linalg as LA"
   ]
  },
  {
   "cell_type": "markdown",
   "id": "decimal-understanding",
   "metadata": {},
   "source": [
    "Lets take a simple example where we take a V."
   ]
  },
  {
   "cell_type": "code",
   "execution_count": 2,
   "id": "driving-reliance",
   "metadata": {},
   "outputs": [],
   "source": [
    "V = np.array([[2,1],[1,0]])"
   ]
  },
  {
   "cell_type": "markdown",
   "id": "advance-front",
   "metadata": {},
   "source": [
    "Where V factorizes into two binary matrices V = WH<br>\n",
    "W = np.array([[1,1],[0,1]])<br>\n",
    "H = np.array([[1,1],[1,0]])"
   ]
  },
  {
   "cell_type": "code",
   "execution_count": 3,
   "id": "excess-packet",
   "metadata": {},
   "outputs": [],
   "source": [
    "#We substitute w * h variables with \n",
    "#x1 = w11 * h11\n",
    "#x2 = w11 * h12\n",
    "#...\n",
    "#x8 = w22 * h22"
   ]
  },
  {
   "cell_type": "code",
   "execution_count": 13,
   "id": "seventh-video",
   "metadata": {},
   "outputs": [],
   "source": [
    "Q = {}\n",
    "#For (2 - x1 - x3)^2\n",
    "Q['x1','x1']= 1 -4\n",
    "Q['x3','x3'] = 1 - 4\n",
    "Q['x1','x3'] = 2\n",
    "\n",
    "#For (1 - x2 - x4)^2\n",
    "Q['x2','x2'] = 1 -2\n",
    "Q['x4','x4'] = 1 - 2\n",
    "Q['x2','x4'] = 2\n",
    "\n",
    "\n",
    "#NOTE : In the PDF x7 was labelled wrongly as x8 in the following equation. That is the correct form\n",
    "#For (1 - x5 - x7)^2\n",
    "\n",
    "Q['x5','x5'] = 1 - 2\n",
    "Q['x7','x7'] = 1 - 2\n",
    "Q['x5','x7'] = 2\n",
    "\n",
    "#For (0 - x6 - x8)^2\n",
    "Q['x6','x6'] = 1\n",
    "Q['x8','x8'] = 1\n",
    "Q['x6','x8'] = 2\n"
   ]
  },
  {
   "cell_type": "code",
   "execution_count": 14,
   "id": "sought-producer",
   "metadata": {},
   "outputs": [],
   "source": [
    "#Penalty coeff for w11h11 substitution to x1 : 2(w11h11 - 2x1(w11 + h11) + 3x1) \n",
    "Q['w11','h11'] = 2\n",
    "Q['x1','w11'] = -4\n",
    "Q['x1','h11'] = -4\n",
    "\n",
    "#that additional 3x1 will affect the coefficient of Q[x1,x1] (by adding to it)\n",
    "Q['x1','x1'] += 6\n",
    "\n",
    "#For x2 = w11h12\n",
    "Q['w11','h12'] = 2\n",
    "Q['x2','w11'] = -4\n",
    "Q['x2','h12'] = -4\n",
    "Q['x2','x2'] += 6\n",
    "\n",
    "#For x3 = w12h21\n",
    "Q['w12','h21'] = 2\n",
    "Q['x3','w12'] = -4\n",
    "Q['x3','h21'] = -4\n",
    "Q['x3','x3'] += 6\n",
    "\n",
    "#For x4 = w12h22\n",
    "Q['w12','h22'] = 2\n",
    "Q['x4','w12'] = -4\n",
    "Q['x4','h22'] = -4\n",
    "Q['x4','x4'] += 6\n",
    "\n",
    "#For x5 =w21h11\n",
    "Q['w21','h11'] = 2\n",
    "Q['x5','w21'] = -4\n",
    "Q['x5','h11'] = -4\n",
    "Q['x5','x5'] += 6\n",
    "\n",
    "#For x6 = w21h12\n",
    "Q['w21','h12'] = 2\n",
    "Q['x6','w21'] = -4\n",
    "Q['x6','h12'] = -4\n",
    "Q['x6','x6'] += 6\n",
    "\n",
    "#For x7 = w22h21\n",
    "Q['w22','h21'] = 2\n",
    "Q['x7','w22'] = -4\n",
    "Q['x7','h21'] = -4\n",
    "Q['x7','x7'] += 6\n",
    "\n",
    "#For x8 = w22h22\n",
    "Q['w22','h22'] = 2\n",
    "Q['x8','w22'] = -4\n",
    "Q['x8','h22'] = -4\n",
    "Q['x8','x8'] += 6\n"
   ]
  },
  {
   "cell_type": "code",
   "execution_count": 15,
   "id": "brazilian-partnership",
   "metadata": {},
   "outputs": [],
   "source": [
    "#Use Exactsolver to solve the qubo\n",
    "sampler = dimod.ExactSolver()\n",
    "sampleset = sampler.sample_qubo(Q)"
   ]
  },
  {
   "cell_type": "code",
   "execution_count": 23,
   "id": "sublime-germany",
   "metadata": {},
   "outputs": [
    {
     "data": {
      "text/plain": [
       "{'h11': 1,\n",
       " 'h12': 1,\n",
       " 'h21': 1,\n",
       " 'h22': 0,\n",
       " 'w11': 1,\n",
       " 'w12': 1,\n",
       " 'w21': 0,\n",
       " 'w22': 1,\n",
       " 'x1': 1,\n",
       " 'x2': 1,\n",
       " 'x3': 1,\n",
       " 'x4': 0,\n",
       " 'x5': 0,\n",
       " 'x6': 0,\n",
       " 'x7': 1,\n",
       " 'x8': 0}"
      ]
     },
     "execution_count": 23,
     "metadata": {},
     "output_type": "execute_result"
    }
   ],
   "source": [
    "sampleset.first.sample"
   ]
  },
  {
   "cell_type": "code",
   "execution_count": 22,
   "id": "technological-mentor",
   "metadata": {},
   "outputs": [
    {
     "data": {
      "text/plain": [
       "5.999999999999999"
      ]
     },
     "execution_count": 22,
     "metadata": {},
     "output_type": "execute_result"
    }
   ],
   "source": [
    "W = np.array([[1,1],[0,1]])\n",
    "H = np.array([[1,1],[1,0]])\n",
    "LA.norm(V)**2"
   ]
  },
  {
   "cell_type": "code",
   "execution_count": null,
   "id": "amended-caribbean",
   "metadata": {},
   "outputs": [],
   "source": []
  }
 ],
 "metadata": {
  "kernelspec": {
   "display_name": "Python 3 (ipykernel)",
   "language": "python",
   "name": "python3"
  },
  "language_info": {
   "codemirror_mode": {
    "name": "ipython",
    "version": 3
   },
   "file_extension": ".py",
   "mimetype": "text/x-python",
   "name": "python",
   "nbconvert_exporter": "python",
   "pygments_lexer": "ipython3",
   "version": "3.10.1"
  }
 },
 "nbformat": 4,
 "nbformat_minor": 5
}

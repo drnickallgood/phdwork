{
 "cells": [
  {
   "cell_type": "markdown",
   "id": "ebbdcbee",
   "metadata": {},
   "source": [
    "CLuster intertia is square of ||V-WH||"
   ]
  },
  {
   "cell_type": "code",
   "execution_count": 1,
   "id": "9165e03e",
   "metadata": {},
   "outputs": [],
   "source": [
    "from sklearn.cluster import KMeans\n",
    "import numpy as np\n",
    "import numpy.linalg as LA"
   ]
  },
  {
   "cell_type": "code",
   "execution_count": 2,
   "id": "16812f6d",
   "metadata": {},
   "outputs": [],
   "source": [
    "#Dataset\n",
    "X = np.array([[1, 2], [1, 4], [1, 0], [10, 2], [10, 4], [10, 0]])\n",
    "\n",
    "#K-means\n",
    "kmeans = KMeans(n_clusters=2, random_state=1).fit(X)\n"
   ]
  },
  {
   "cell_type": "code",
   "execution_count": 3,
   "id": "b6522006",
   "metadata": {},
   "outputs": [
    {
     "data": {
      "text/plain": [
       "16.0"
      ]
     },
     "execution_count": 3,
     "metadata": {},
     "output_type": "execute_result"
    }
   ],
   "source": [
    "#Let us see what the inertia is\n",
    "kmeans.inertia_"
   ]
  },
  {
   "cell_type": "code",
   "execution_count": 4,
   "id": "4e7a56b3",
   "metadata": {},
   "outputs": [],
   "source": [
    "#Putting all in V - WH form\n",
    "#Note : we are not re-solving anything. But we are just just putting the above result in matrix form\n",
    "\n",
    "#Transpose coz columns are now datapoints (feature vectors)\n",
    "V = X.T\n",
    "\n",
    "#Each center is a column vector\n",
    "W = kmeans.cluster_centers_.T"
   ]
  },
  {
   "cell_type": "code",
   "execution_count": 5,
   "id": "d6020d5c",
   "metadata": {},
   "outputs": [],
   "source": [
    "#Create H matrix\n",
    "#Initialize to 0s\n",
    "H = np.zeros([2,V.shape[1]])\n",
    "\n",
    "#Depending on label, populate the correct row for each column with 1\n",
    "for i in range(0,V.shape[1]):\n",
    "    H[kmeans.labels_[i],i] = 1"
   ]
  },
  {
   "cell_type": "code",
   "execution_count": 6,
   "id": "828deb54",
   "metadata": {},
   "outputs": [
    {
     "data": {
      "text/plain": [
       "4.0"
      ]
     },
     "execution_count": 6,
     "metadata": {},
     "output_type": "execute_result"
    }
   ],
   "source": [
    "#Check norm\n",
    "LA.norm(V-np.matmul(W,H))"
   ]
  },
  {
   "cell_type": "code",
   "execution_count": 7,
   "id": "71e6533f",
   "metadata": {},
   "outputs": [
    {
     "data": {
      "text/plain": [
       "16.0"
      ]
     },
     "execution_count": 7,
     "metadata": {},
     "output_type": "execute_result"
    }
   ],
   "source": [
    "#Check norm square and compare with inhertia\n",
    "LA.norm(V-np.matmul(W,H))**2"
   ]
  },
  {
   "cell_type": "code",
   "execution_count": null,
   "id": "265153bb",
   "metadata": {},
   "outputs": [],
   "source": []
  },
  {
   "cell_type": "code",
   "execution_count": null,
   "id": "b265fe06",
   "metadata": {},
   "outputs": [],
   "source": []
  },
  {
   "cell_type": "code",
   "execution_count": null,
   "id": "919b7aed",
   "metadata": {},
   "outputs": [],
   "source": []
  }
 ],
 "metadata": {
  "kernelspec": {
   "display_name": "Python 3 (ipykernel)",
   "language": "python",
   "name": "python3"
  },
  "language_info": {
   "codemirror_mode": {
    "name": "ipython",
    "version": 3
   },
   "file_extension": ".py",
   "mimetype": "text/x-python",
   "name": "python",
   "nbconvert_exporter": "python",
   "pygments_lexer": "ipython3",
   "version": "3.10.2"
  }
 },
 "nbformat": 4,
 "nbformat_minor": 5
}
